{
 "cells": [
  {
   "cell_type": "markdown",
   "metadata": {},
   "source": [
    "# Q.3 Regular Expression Matching"
   ]
  },
  {
   "cell_type": "code",
   "execution_count": 33,
   "metadata": {},
   "outputs": [],
   "source": [
    "def expression_matching(string, pattern):\n",
    "    \"\"\"\n",
    "    implementation of regular expression matching\n",
    "    '.'---> matches single character\n",
    "    '*'---> matches zero or more of the preceding element\n",
    "    data type:\n",
    "    string: str\n",
    "    pattern: str\n",
    "    \"\"\"\n",
    "    pat_mat = [[False for i in range(len(pattern)+1)] for j in range(len(string)+1)]\n",
    "    pat_mat[0][0] = True\n",
    "    for i in range(1,len(pattern)+1):\n",
    "        if pattern[i-1] == '*':\n",
    "            if i >= 2:\n",
    "                pat_mat[0][i] = pat_mat[0][i-2]\n",
    "    for i in range(1,len(string)+1):\n",
    "        for j in range(1,len(pattern)+1):\n",
    "            if pattern[j-1]=='.':\n",
    "                pat_mat[i][j] = pat_mat[i-1][j-1]\n",
    "            elif pattern[j-1]=='*':\n",
    "                pat_mat[i][j] = pat_mat[i][j-2] or pat_mat[i][j-1] or (pat_mat[i-1][j] and (string[i-1]==pattern[j-2] or pattern[j-2]=='.'))\n",
    "            else:\n",
    "                pat_mat[i][j] = pat_mat[i-1][j-1] and string[i-1] == pattern[j-1]\n",
    "    return pat_mat[len(string)][len(pattern)]"
   ]
  },
  {
   "cell_type": "markdown",
   "metadata": {},
   "source": [
    "## Checking the function using some string and pattern"
   ]
  },
  {
   "cell_type": "code",
   "execution_count": 34,
   "metadata": {},
   "outputs": [
    {
     "data": {
      "text/plain": [
       "True"
      ]
     },
     "execution_count": 34,
     "metadata": {},
     "output_type": "execute_result"
    }
   ],
   "source": [
    "expression_matching(\"ddy\", \"c*d*y\")"
   ]
  },
  {
   "cell_type": "code",
   "execution_count": 35,
   "metadata": {},
   "outputs": [
    {
     "data": {
      "text/plain": [
       "False"
      ]
     },
     "execution_count": 35,
     "metadata": {},
     "output_type": "execute_result"
    }
   ],
   "source": [
    "expression_matching(\"lississippi\", \"lis*is*p*.\")"
   ]
  }
 ],
 "metadata": {
  "kernelspec": {
   "display_name": "Python 3",
   "language": "python",
   "name": "python3"
  },
  "language_info": {
   "codemirror_mode": {
    "name": "ipython",
    "version": 3
   },
   "file_extension": ".py",
   "mimetype": "text/x-python",
   "name": "python",
   "nbconvert_exporter": "python",
   "pygments_lexer": "ipython3",
   "version": "3.7.3"
  }
 },
 "nbformat": 4,
 "nbformat_minor": 4
}
